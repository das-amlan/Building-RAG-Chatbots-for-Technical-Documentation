{
  "cells": [
    {
      "cell_type": "markdown",
      "source": [
        "# Project: Building RAG Chatbots for Technical Documentation"
      ],
      "metadata": {
        "id": "9Mm27URz1aIH"
      },
      "id": "9Mm27URz1aIH"
    },
    {
      "source": [
        "A well-known car manufacturer that is looking at implementing large language models (LLMs) into vehicles to help drivers. Experiment with integrating car manuals with an LLM to create a chatbot that understands the situation. The hope is that this chatbot can be connected to a text-to-speech program to read its answers out loud.\n",
        "\n",
        "As a test, I'll use several pages from a car manual that explain car warning messages, their meanings, and what to do about them. This specific manual, saved as an HTML file named `mg-zs-warning-messages.html`, is for an MG ZS, which is a small SUV. Using what I've learned about `LLMs` and `LangChain`, I will build the chatbot using a technique called `Retrieval Augmented Generation (RAG)`.\n",
        "\n",
        "> **Retrieval Augmented Generation (RAG):** is a technique that gives large language models (LLMs) the ability to access and use up-to-date, external information to create more accurate and relevant responses.\n",
        "\n",
        "> **LangChain:** is a set of tools that helps developers create powerful applications by connecting large language models (LLMs) with other sources of data.\n",
        "\n",
        "\n",
        "\n"
      ],
      "metadata": {
        "id": "f2edba47-9e2e-476e-9f2f-fb177b329063"
      },
      "id": "f2edba47-9e2e-476e-9f2f-fb177b329063",
      "cell_type": "markdown"
    },
    {
      "cell_type": "markdown",
      "source": [
        "## Necessary packages"
      ],
      "metadata": {
        "id": "C9i2h3Xw6KM2"
      },
      "id": "C9i2h3Xw6KM2"
    },
    {
      "source": [
        "# Install the necessary packages\n",
        "import subprocess\n",
        "import pkg_resources\n",
        "\n",
        "def install_if_needed(package, version):\n",
        "    '''Function to ensure that the libraries used are consistent to avoid errors.'''\n",
        "    try:\n",
        "        pkg = pkg_resources.get_distribution(package)\n",
        "        if pkg.version != version:\n",
        "            raise pkg_resources.VersionConflict(pkg, version)\n",
        "    except (pkg_resources.DistributionNotFound, pkg_resources.VersionConflict):\n",
        "        subprocess.check_call([\"pip\", \"install\", f\"{package}=={version}\"])\n",
        "\n",
        "install_if_needed(\"langchain-core\", \"0.3.72\")\n",
        "install_if_needed(\"langchain-openai\", \"0.3.28\")\n",
        "install_if_needed(\"langchain-community\", \"0.3.27\")\n",
        "install_if_needed(\"unstructured\", \"0.18.11\")\n",
        "install_if_needed(\"langchain-chroma\", \"0.2.5\")\n",
        "install_if_needed(\"langchain-text-splitters\", \"0.3.9\")"
      ],
      "metadata": {
        "executionCancelledAt": null,
        "executionTime": 18158,
        "lastExecutedAt": 1756344101528,
        "lastExecutedByKernel": "fe2e1d1a-5c22-4217-87d8-76056ece2d4f",
        "lastScheduledRunId": null,
        "lastSuccessfullyExecutedCode": "# Run this cell to install the necessary packages\nimport subprocess\nimport pkg_resources\n\ndef install_if_needed(package, version):\n    '''Function to ensure that the libraries used are consistent to avoid errors.'''\n    try:\n        pkg = pkg_resources.get_distribution(package)\n        if pkg.version != version:\n            raise pkg_resources.VersionConflict(pkg, version)\n    except (pkg_resources.DistributionNotFound, pkg_resources.VersionConflict):\n        subprocess.check_call([\"pip\", \"install\", f\"{package}=={version}\"])\n\ninstall_if_needed(\"langchain-core\", \"0.3.72\")\ninstall_if_needed(\"langchain-openai\", \"0.3.28\")\ninstall_if_needed(\"langchain-community\", \"0.3.27\")\ninstall_if_needed(\"unstructured\", \"0.18.11\")\ninstall_if_needed(\"langchain-chroma\", \"0.2.5\")\ninstall_if_needed(\"langchain-text-splitters\", \"0.3.9\")",
        "outputsMetadata": {
          "0": {
            "height": 616,
            "type": "stream"
          },
          "1": {
            "height": 416,
            "type": "stream"
          },
          "2": {
            "height": 616,
            "type": "stream"
          },
          "3": {
            "height": 164,
            "type": "stream"
          },
          "4": {
            "height": 616,
            "type": "stream"
          },
          "5": {
            "height": 248,
            "type": "stream"
          },
          "6": {
            "height": 616,
            "type": "stream"
          },
          "7": {
            "height": 80,
            "type": "stream"
          },
          "8": {
            "height": 616,
            "type": "stream"
          },
          "9": {
            "height": 248,
            "type": "stream"
          },
          "10": {
            "height": 616,
            "type": "stream"
          },
          "11": {
            "height": 80,
            "type": "stream"
          }
        },
        "id": "2acabac3-1319-441d-81b3-2e1a6f7f36ac",
        "outputId": "d03ad86b-1d05-403e-ad27-cc0780605393"
      },
      "id": "2acabac3-1319-441d-81b3-2e1a6f7f36ac",
      "cell_type": "code",
      "execution_count": null,
      "outputs": [
        {
          "output_type": "stream",
          "name": "stdout",
          "text": "Defaulting to user installation because normal site-packages is not writeable\nRequirement already satisfied: langchain-core==0.3.72 in /home/repl/.local/lib/python3.10/site-packages (0.3.72)\nRequirement already satisfied: langsmith>=0.3.45 in /home/repl/.local/lib/python3.10/site-packages (from langchain-core==0.3.72) (0.4.20)\nRequirement already satisfied: tenacity!=8.4.0,<10.0.0,>=8.1.0 in /usr/local/lib/python3.10/dist-packages (from langchain-core==0.3.72) (8.5.0)\nRequirement already satisfied: jsonpatch<2.0,>=1.33 in /usr/local/lib/python3.10/dist-packages (from langchain-core==0.3.72) (1.33)\nRequirement already satisfied: PyYAML>=5.3 in /usr/local/lib/python3.10/dist-packages (from langchain-core==0.3.72) (6.0.1)\nRequirement already satisfied: typing-extensions>=4.7 in /usr/local/lib/python3.10/dist-packages (from langchain-core==0.3.72) (4.12.2)\nRequirement already satisfied: packaging>=23.2 in /usr/local/lib/python3.10/dist-packages (from langchain-core==0.3.72) (23.2)\nRequirement already satisfied: pydantic>=2.7.4 in /home/repl/.local/lib/python3.10/site-packages (from langchain-core==0.3.72) (2.11.7)\nRequirement already satisfied: jsonpointer>=1.9 in /usr/local/lib/python3.10/dist-packages (from jsonpatch<2.0,>=1.33->langchain-core==0.3.72) (3.0.0)\nRequirement already satisfied: httpx<1,>=0.23.0 in /usr/local/lib/python3.10/dist-packages (from langsmith>=0.3.45->langchain-core==0.3.72) (0.27.2)\nRequirement already satisfied: orjson>=3.9.14 in /usr/local/lib/python3.10/dist-packages (from langsmith>=0.3.45->langchain-core==0.3.72) (3.10.15)\nRequirement already satisfied: requests-toolbelt>=1.0.0 in /usr/local/lib/python3.10/dist-packages (from langsmith>=0.3.45->langchain-core==0.3.72) (1.0.0)\nRequirement already satisfied: requests>=2.0.0 in /usr/local/lib/python3.10/dist-packages (from langsmith>=0.3.45->langchain-core==0.3.72) (2.32.3)\nRequirement already satisfied: zstandard>=0.23.0 in /home/repl/.local/lib/python3.10/site-packages (from langsmith>=0.3.45->langchain-core==0.3.72) (0.24.0)\nRequirement already satisfied: anyio in /usr/local/lib/python3.10/dist-packages (from httpx<1,>=0.23.0->langsmith>=0.3.45->langchain-core==0.3.72) (4.8.0)\nRequirement already satisfied: certifi in /usr/local/lib/python3.10/dist-packages (from httpx<1,>=0.23.0->langsmith>=0.3.45->langchain-core==0.3.72) (2025.1.31)\nRequirement already satisfied: httpcore==1.* in /home/repl/.local/lib/python3.10/site-packages (from httpx<1,>=0.23.0->langsmith>=0.3.45->langchain-core==0.3.72) (1.0.9)\nRequirement already satisfied: idna in /usr/local/lib/python3.10/dist-packages (from httpx<1,>=0.23.0->langsmith>=0.3.45->langchain-core==0.3.72) (3.10)\nRequirement already satisfied: sniffio in /usr/local/lib/python3.10/dist-packages (from httpx<1,>=0.23.0->langsmith>=0.3.45->langchain-core==0.3.72) (1.3.1)\nRequirement already satisfied: h11>=0.16 in /home/repl/.local/lib/python3.10/site-packages (from httpcore==1.*->httpx<1,>=0.23.0->langsmith>=0.3.45->langchain-core==0.3.72) (0.16.0)\nRequirement already satisfied: annotated-types>=0.6.0 in /usr/local/lib/python3.10/dist-packages (from pydantic>=2.7.4->langchain-core==0.3.72) (0.7.0)\nRequirement already satisfied: pydantic-core==2.33.2 in /home/repl/.local/lib/python3.10/site-packages (from pydantic>=2.7.4->langchain-core==0.3.72) (2.33.2)\nRequirement already satisfied: typing-inspection>=0.4.0 in /home/repl/.local/lib/python3.10/site-packages (from pydantic>=2.7.4->langchain-core==0.3.72) (0.4.1)\nRequirement already satisfied: charset-normalizer<4,>=2 in /usr/local/lib/python3.10/dist-packages (from requests>=2.0.0->langsmith>=0.3.45->langchain-core==0.3.72) (3.4.1)\nRequirement already satisfied: urllib3<3,>=1.21.1 in /usr/local/lib/python3.10/dist-packages (from requests>=2.0.0->langsmith>=0.3.45->langchain-core==0.3.72) (2.3.0)\nRequirement already satisfied: exceptiongroup>=1.0.2 in /usr/local/lib/python3.10/dist-packages (from anyio->httpx<1,>=0.23.0->langsmith>=0.3.45->langchain-core==0.3.72) (1.2.2)\nDefaulting to user installation because normal site-packages is not writeable\nRequirement already satisfied: langchain-openai==0.3.28 in /home/repl/.local/lib/python3.10/site-packages (0.3.28)\nRequirement already satisfied: langchain-core<1.0.0,>=0.3.68 in /home/repl/.local/lib/python3.10/site-packages (from langchain-openai==0.3.28) (0.3.72)\nRequirement already satisfied: openai<2.0.0,>=1.86.0 in /home/repl/.local/lib/python3.10/site-packages (from langchain-openai==0.3.28) (1.102.0)\nRequirement already satisfied: tiktoken<1,>=0.7 in /usr/local/lib/python3.10/dist-packages (from langchain-openai==0.3.28) (0.7.0)\nRequirement already satisfied: langsmith>=0.3.45 in /home/repl/.local/lib/python3.10/site-packages (from langchain-core<1.0.0,>=0.3.68->langchain-openai==0.3.28) (0.4.20)\nRequirement already satisfied: tenacity!=8.4.0,<10.0.0,>=8.1.0 in /usr/local/lib/python3.10/dist-packages (from langchain-core<1.0.0,>=0.3.68->langchain-openai==0.3.28) (8.5.0)\nRequirement already satisfied: jsonpatch<2.0,>=1.33 in /usr/local/lib/python3.10/dist-packages (from langchain-core<1.0.0,>=0.3.68->langchain-openai==0.3.28) (1.33)\nRequirement already satisfied: PyYAML>=5.3 in /usr/local/lib/python3.10/dist-packages (from langchain-core<1.0.0,>=0.3.68->langchain-openai==0.3.28) (6.0.1)\nRequirement already satisfied: typing-extensions>=4.7 in /usr/local/lib/python3.10/dist-packages (from langchain-core<1.0.0,>=0.3.68->langchain-openai==0.3.28) (4.12.2)\nRequirement already satisfied: packaging>=23.2 in /usr/local/lib/python3.10/dist-packages (from langchain-core<1.0.0,>=0.3.68->langchain-openai==0.3.28) (23.2)\nRequirement already satisfied: pydantic>=2.7.4 in /home/repl/.local/lib/python3.10/site-packages (from langchain-core<1.0.0,>=0.3.68->langchain-openai==0.3.28) (2.11.7)\nRequirement already satisfied: jsonpointer>=1.9 in /usr/local/lib/python3.10/dist-packages (from jsonpatch<2.0,>=1.33->langchain-core<1.0.0,>=0.3.68->langchain-openai==0.3.28) (3.0.0)\nRequirement already satisfied: anyio<5,>=3.5.0 in /usr/local/lib/python3.10/dist-packages (from openai<2.0.0,>=1.86.0->langchain-openai==0.3.28) (4.8.0)\nRequirement already satisfied: distro<2,>=1.7.0 in /usr/lib/python3/dist-packages (from openai<2.0.0,>=1.86.0->langchain-openai==0.3.28) (1.7.0)\nRequirement already satisfied: httpx<1,>=0.23.0 in /usr/local/lib/python3.10/dist-packages (from openai<2.0.0,>=1.86.0->langchain-openai==0.3.28) (0.27.2)\nRequirement already satisfied: jiter<1,>=0.4.0 in /usr/local/lib/python3.10/dist-packages (from openai<2.0.0,>=1.86.0->langchain-openai==0.3.28) (0.8.2)\nRequirement already satisfied: sniffio in /usr/local/lib/python3.10/dist-packages (from openai<2.0.0,>=1.86.0->langchain-openai==0.3.28) (1.3.1)\nRequirement already satisfied: tqdm>4 in /usr/local/lib/python3.10/dist-packages (from openai<2.0.0,>=1.86.0->langchain-openai==0.3.28) (4.67.1)\nRequirement already satisfied: exceptiongroup>=1.0.2 in /usr/local/lib/python3.10/dist-packages (from anyio<5,>=3.5.0->openai<2.0.0,>=1.86.0->langchain-openai==0.3.28) (1.2.2)\nRequirement already satisfied: idna>=2.8 in /usr/local/lib/python3.10/dist-packages (from anyio<5,>=3.5.0->openai<2.0.0,>=1.86.0->langchain-openai==0.3.28) (3.10)\nRequirement already satisfied: certifi in /usr/local/lib/python3.10/dist-packages (from httpx<1,>=0.23.0->openai<2.0.0,>=1.86.0->langchain-openai==0.3.28) (2025.1.31)\nRequirement already satisfied: httpcore==1.* in /home/repl/.local/lib/python3.10/site-packages (from httpx<1,>=0.23.0->openai<2.0.0,>=1.86.0->langchain-openai==0.3.28) (1.0.9)\nRequirement already satisfied: h11>=0.16 in /home/repl/.local/lib/python3.10/site-packages (from httpcore==1.*->httpx<1,>=0.23.0->openai<2.0.0,>=1.86.0->langchain-openai==0.3.28) (0.16.0)\nRequirement already satisfied: annotated-types>=0.6.0 in /usr/local/lib/python3.10/dist-packages (from pydantic>=2.7.4->langchain-core<1.0.0,>=0.3.68->langchain-openai==0.3.28) (0.7.0)\nRequirement already satisfied: pydantic-core==2.33.2 in /home/repl/.local/lib/python3.10/site-packages (from pydantic>=2.7.4->langchain-core<1.0.0,>=0.3.68->langchain-openai==0.3.28) (2.33.2)\nRequirement already satisfied: typing-inspection>=0.4.0 in /home/repl/.local/lib/python3.10/site-packages (from pydantic>=2.7.4->langchain-core<1.0.0,>=0.3.68->langchain-openai==0.3.28) (0.4.1)\nRequirement already satisfied: regex>=2022.1.18 in /usr/local/lib/python3.10/dist-packages (from tiktoken<1,>=0.7->langchain-openai==0.3.28) (2023.12.25)\nRequirement already satisfied: requests>=2.26.0 in /usr/local/lib/python3.10/dist-packages (from tiktoken<1,>=0.7->langchain-openai==0.3.28) (2.32.3)\nRequirement already satisfied: orjson>=3.9.14 in /usr/local/lib/python3.10/dist-packages (from langsmith>=0.3.45->langchain-core<1.0.0,>=0.3.68->langchain-openai==0.3.28) (3.10.15)\nRequirement already satisfied: requests-toolbelt>=1.0.0 in /usr/local/lib/python3.10/dist-packages (from langsmith>=0.3.45->langchain-core<1.0.0,>=0.3.68->langchain-openai==0.3.28) (1.0.0)\nRequirement already satisfied: zstandard>=0.23.0 in /home/repl/.local/lib/python3.10/site-packages (from langsmith>=0.3.45->langchain-core<1.0.0,>=0.3.68->langchain-openai==0.3.28) (0.24.0)\nRequirement already satisfied: charset-normalizer<4,>=2 in /usr/local/lib/python3.10/dist-packages (from requests>=2.26.0->tiktoken<1,>=0.7->langchain-openai==0.3.28) (3.4.1)\nRequirement already satisfied: urllib3<3,>=1.21.1 in /usr/local/lib/python3.10/dist-packages (from requests>=2.26.0->tiktoken<1,>=0.7->langchain-openai==0.3.28) (2.3.0)\nDefaulting to user installation because normal site-packages is not writeable\nRequirement already satisfied: langchain-community==0.3.27 in /home/repl/.local/lib/python3.10/site-packages (0.3.27)\nRequirement already satisfied: langchain-core<1.0.0,>=0.3.66 in /home/repl/.local/lib/python3.10/site-packages (from langchain-community==0.3.27) (0.3.72)\nRequirement already satisfied: langchain<1.0.0,>=0.3.26 in /home/repl/.local/lib/python3.10/site-packages (from langchain-community==0.3.27) (0.3.27)\nRequirement already satisfied: SQLAlchemy<3,>=1.4 in /usr/local/lib/python3.10/dist-packages (from langchain-community==0.3.27) (2.0.38)\nRequirement already satisfied: requests<3,>=2 in /usr/local/lib/python3.10/dist-packages (from langchain-community==0.3.27) (2.32.3)\nRequirement already satisfied: PyYAML>=5.3 in /usr/local/lib/python3.10/dist-packages (from langchain-community==0.3.27) (6.0.1)\nRequirement already satisfied: aiohttp<4.0.0,>=3.8.3 in /usr/local/lib/python3.10/dist-packages (from langchain-community==0.3.27) (3.11.12)\nRequirement already satisfied: tenacity!=8.4.0,<10,>=8.1.0 in /usr/local/lib/python3.10/dist-packages (from langchain-community==0.3.27) (8.5.0)\nRequirement already satisfied: dataclasses-json<0.7,>=0.5.7 in /usr/local/lib/python3.10/dist-packages (from langchain-community==0.3.27) (0.6.7)\nRequirement already satisfied: pydantic-settings<3.0.0,>=2.4.0 in /usr/local/lib/python3.10/dist-packages (from langchain-community==0.3.27) (2.4.0)\nRequirement already satisfied: langsmith>=0.1.125 in /home/repl/.local/lib/python3.10/site-packages (from langchain-community==0.3.27) (0.4.20)\nRequirement already satisfied: httpx-sse<1.0.0,>=0.4.0 in /usr/local/lib/python3.10/dist-packages (from langchain-community==0.3.27) (0.4.0)\nRequirement already satisfied: numpy>=1.26.2 in /usr/local/lib/python3.10/dist-packages (from langchain-community==0.3.27) (1.26.4)\nRequirement already satisfied: aiohappyeyeballs>=2.3.0 in /usr/local/lib/python3.10/dist-packages (from aiohttp<4.0.0,>=3.8.3->langchain-community==0.3.27) (2.4.6)\nRequirement already satisfied: aiosignal>=1.1.2 in /usr/local/lib/python3.10/dist-packages (from aiohttp<4.0.0,>=3.8.3->langchain-community==0.3.27) (1.3.2)\nRequirement already satisfied: async-timeout<6.0,>=4.0 in /usr/local/lib/python3.10/dist-packages (from aiohttp<4.0.0,>=3.8.3->langchain-community==0.3.27) (4.0.3)\nRequirement already satisfied: attrs>=17.3.0 in /usr/local/lib/python3.10/dist-packages (from aiohttp<4.0.0,>=3.8.3->langchain-community==0.3.27) (25.1.0)\nRequirement already satisfied: frozenlist>=1.1.1 in /usr/local/lib/python3.10/dist-packages (from aiohttp<4.0.0,>=3.8.3->langchain-community==0.3.27) (1.5.0)\nRequirement already satisfied: multidict<7.0,>=4.5 in /usr/local/lib/python3.10/dist-packages (from aiohttp<4.0.0,>=3.8.3->langchain-community==0.3.27) (6.1.0)\nRequirement already satisfied: propcache>=0.2.0 in /usr/local/lib/python3.10/dist-packages (from aiohttp<4.0.0,>=3.8.3->langchain-community==0.3.27) (0.2.1)\nRequirement already satisfied: yarl<2.0,>=1.17.0 in /usr/local/lib/python3.10/dist-packages (from aiohttp<4.0.0,>=3.8.3->langchain-community==0.3.27) (1.18.3)\nRequirement already satisfied: marshmallow<4.0.0,>=3.18.0 in /usr/local/lib/python3.10/dist-packages (from dataclasses-json<0.7,>=0.5.7->langchain-community==0.3.27) (3.26.1)\nRequirement already satisfied: typing-inspect<1,>=0.4.0 in /usr/local/lib/python3.10/dist-packages (from dataclasses-json<0.7,>=0.5.7->langchain-community==0.3.27) (0.9.0)\nRequirement already satisfied: langchain-text-splitters<1.0.0,>=0.3.9 in /home/repl/.local/lib/python3.10/site-packages (from langchain<1.0.0,>=0.3.26->langchain-community==0.3.27) (0.3.9)\nRequirement already satisfied: pydantic<3.0.0,>=2.7.4 in /home/repl/.local/lib/python3.10/site-packages (from langchain<1.0.0,>=0.3.26->langchain-community==0.3.27) (2.11.7)\nRequirement already satisfied: jsonpatch<2.0,>=1.33 in /usr/local/lib/python3.10/dist-packages (from langchain-core<1.0.0,>=0.3.66->langchain-community==0.3.27) (1.33)\nRequirement already satisfied: typing-extensions>=4.7 in /usr/local/lib/python3.10/dist-packages (from langchain-core<1.0.0,>=0.3.66->langchain-community==0.3.27) (4.12.2)\nRequirement already satisfied: packaging>=23.2 in /usr/local/lib/python3.10/dist-packages (from langchain-core<1.0.0,>=0.3.66->langchain-community==0.3.27) (23.2)\nRequirement already satisfied: jsonpointer>=1.9 in /usr/local/lib/python3.10/dist-packages (from jsonpatch<2.0,>=1.33->langchain-core<1.0.0,>=0.3.66->langchain-community==0.3.27) (3.0.0)\nRequirement already satisfied: annotated-types>=0.6.0 in /usr/local/lib/python3.10/dist-packages (from pydantic<3.0.0,>=2.7.4->langchain<1.0.0,>=0.3.26->langchain-community==0.3.27) (0.7.0)\nRequirement already satisfied: pydantic-core==2.33.2 in /home/repl/.local/lib/python3.10/site-packages (from pydantic<3.0.0,>=2.7.4->langchain<1.0.0,>=0.3.26->langchain-community==0.3.27) (2.33.2)\nRequirement already satisfied: typing-inspection>=0.4.0 in /home/repl/.local/lib/python3.10/site-packages (from pydantic<3.0.0,>=2.7.4->langchain<1.0.0,>=0.3.26->langchain-community==0.3.27) (0.4.1)\nRequirement already satisfied: python-dotenv>=0.21.0 in /usr/local/lib/python3.10/dist-packages (from pydantic-settings<3.0.0,>=2.4.0->langchain-community==0.3.27) (1.0.1)\nRequirement already satisfied: charset-normalizer<4,>=2 in /usr/local/lib/python3.10/dist-packages (from requests<3,>=2->langchain-community==0.3.27) (3.4.1)\nRequirement already satisfied: idna<4,>=2.5 in /usr/local/lib/python3.10/dist-packages (from requests<3,>=2->langchain-community==0.3.27) (3.10)\nRequirement already satisfied: urllib3<3,>=1.21.1 in /usr/local/lib/python3.10/dist-packages (from requests<3,>=2->langchain-community==0.3.27) (2.3.0)\nRequirement already satisfied: certifi>=2017.4.17 in /usr/local/lib/python3.10/dist-packages (from requests<3,>=2->langchain-community==0.3.27) (2025.1.31)\nRequirement already satisfied: greenlet!=0.4.17 in /usr/local/lib/python3.10/dist-packages (from SQLAlchemy<3,>=1.4->langchain-community==0.3.27) (3.1.1)\nRequirement already satisfied: mypy-extensions>=0.3.0 in /usr/local/lib/python3.10/dist-packages (from typing-inspect<1,>=0.4.0->dataclasses-json<0.7,>=0.5.7->langchain-community==0.3.27) (1.0.0)\nRequirement already satisfied: httpx<1,>=0.23.0 in /usr/local/lib/python3.10/dist-packages (from langsmith>=0.1.125->langchain-community==0.3.27) (0.27.2)\nRequirement already satisfied: orjson>=3.9.14 in /usr/local/lib/python3.10/dist-packages (from langsmith>=0.1.125->langchain-community==0.3.27) (3.10.15)\nRequirement already satisfied: requests-toolbelt>=1.0.0 in /usr/local/lib/python3.10/dist-packages (from langsmith>=0.1.125->langchain-community==0.3.27) (1.0.0)\nRequirement already satisfied: zstandard>=0.23.0 in /home/repl/.local/lib/python3.10/site-packages (from langsmith>=0.1.125->langchain-community==0.3.27) (0.24.0)\nRequirement already satisfied: anyio in /usr/local/lib/python3.10/dist-packages (from httpx<1,>=0.23.0->langsmith>=0.1.125->langchain-community==0.3.27) (4.8.0)\nRequirement already satisfied: httpcore==1.* in /home/repl/.local/lib/python3.10/site-packages (from httpx<1,>=0.23.0->langsmith>=0.1.125->langchain-community==0.3.27) (1.0.9)\nRequirement already satisfied: sniffio in /usr/local/lib/python3.10/dist-packages (from httpx<1,>=0.23.0->langsmith>=0.1.125->langchain-community==0.3.27) (1.3.1)\nRequirement already satisfied: h11>=0.16 in /home/repl/.local/lib/python3.10/site-packages (from httpcore==1.*->httpx<1,>=0.23.0->langsmith>=0.1.125->langchain-community==0.3.27) (0.16.0)\nRequirement already satisfied: exceptiongroup>=1.0.2 in /usr/local/lib/python3.10/dist-packages (from anyio->httpx<1,>=0.23.0->langsmith>=0.1.125->langchain-community==0.3.27) (1.2.2)\nDefaulting to user installation because normal site-packages is not writeable\nRequirement already satisfied: unstructured==0.18.11 in /home/repl/.local/lib/python3.10/site-packages (0.18.11)\nRequirement already satisfied: charset-normalizer in /usr/local/lib/python3.10/dist-packages (from unstructured==0.18.11) (3.4.1)\nRequirement already satisfied: filetype in /home/repl/.local/lib/python3.10/site-packages (from unstructured==0.18.11) (1.2.0)\nRequirement already satisfied: python-magic in /home/repl/.local/lib/python3.10/site-packages (from unstructured==0.18.11) (0.4.27)\nRequirement already satisfied: lxml in /usr/local/lib/python3.10/dist-packages (from unstructured==0.18.11) (5.3.1)\nRequirement already satisfied: nltk in /usr/local/lib/python3.10/dist-packages (from unstructured==0.18.11) (3.9.1)\nRequirement already satisfied: requests in /usr/local/lib/python3.10/dist-packages (from unstructured==0.18.11) (2.32.3)\nRequirement already satisfied: beautifulsoup4 in /usr/local/lib/python3.10/dist-packages (from unstructured==0.18.11) (4.13.3)\nRequirement already satisfied: emoji in /home/repl/.local/lib/python3.10/site-packages (from unstructured==0.18.11) (2.14.1)\nRequirement already satisfied: dataclasses-json in /usr/local/lib/python3.10/dist-packages (from unstructured==0.18.11) (0.6.7)\nRequirement already satisfied: python-iso639 in /home/repl/.local/lib/python3.10/site-packages (from unstructured==0.18.11) (2025.2.18)\nRequirement already satisfied: langdetect in /home/repl/.local/lib/python3.10/site-packages (from unstructured==0.18.11) (1.0.9)\nRequirement already satisfied: numpy in /usr/local/lib/python3.10/dist-packages (from unstructured==0.18.11) (1.26.4)\nRequirement already satisfied: rapidfuzz in /usr/local/lib/python3.10/dist-packages (from unstructured==0.18.11) (3.12.1)\nRequirement already satisfied: backoff in /usr/local/lib/python3.10/dist-packages (from unstructured==0.18.11) (2.2.1)\nRequirement already satisfied: typing-extensions in /usr/local/lib/python3.10/dist-packages (from unstructured==0.18.11) (4.12.2)\nRequirement already satisfied: unstructured-client in /home/repl/.local/lib/python3.10/site-packages (from unstructured==0.18.11) (0.42.3)\nRequirement already satisfied: wrapt in /usr/local/lib/python3.10/dist-packages (from unstructured==0.18.11) (1.17.2)\nRequirement already satisfied: tqdm in /usr/local/lib/python3.10/dist-packages (from unstructured==0.18.11) (4.67.1)\nRequirement already satisfied: psutil in /usr/local/lib/python3.10/dist-packages (from unstructured==0.18.11) (6.1.1)\nRequirement already satisfied: python-oxmsg in /home/repl/.local/lib/python3.10/site-packages (from unstructured==0.18.11) (0.0.2)\nRequirement already satisfied: html5lib in /usr/local/lib/python3.10/dist-packages (from unstructured==0.18.11) (1.1)\nRequirement already satisfied: soupsieve>1.2 in /usr/local/lib/python3.10/dist-packages (from beautifulsoup4->unstructured==0.18.11) (2.6)\nRequirement already satisfied: marshmallow<4.0.0,>=3.18.0 in /usr/local/lib/python3.10/dist-packages (from dataclasses-json->unstructured==0.18.11) (3.26.1)\nRequirement already satisfied: typing-inspect<1,>=0.4.0 in /usr/local/lib/python3.10/dist-packages (from dataclasses-json->unstructured==0.18.11) (0.9.0)\nRequirement already satisfied: packaging>=17.0 in /usr/local/lib/python3.10/dist-packages (from marshmallow<4.0.0,>=3.18.0->dataclasses-json->unstructured==0.18.11) (23.2)\nRequirement already satisfied: mypy-extensions>=0.3.0 in /usr/local/lib/python3.10/dist-packages (from typing-inspect<1,>=0.4.0->dataclasses-json->unstructured==0.18.11) (1.0.0)\nRequirement already satisfied: six>=1.9 in /usr/lib/python3/dist-packages (from html5lib->unstructured==0.18.11) (1.16.0)\nRequirement already satisfied: webencodings in /usr/local/lib/python3.10/dist-packages (from html5lib->unstructured==0.18.11) (0.5.1)\nRequirement already satisfied: click in /usr/local/lib/python3.10/dist-packages (from nltk->unstructured==0.18.11) (8.1.8)\nRequirement already satisfied: joblib in /usr/local/lib/python3.10/dist-packages (from nltk->unstructured==0.18.11) (1.4.2)\nRequirement already satisfied: regex>=2021.8.3 in /usr/local/lib/python3.10/dist-packages (from nltk->unstructured==0.18.11) (2023.12.25)\nRequirement already satisfied: olefile in /usr/lib/python3/dist-packages (from python-oxmsg->unstructured==0.18.11) (0.46)\nRequirement already satisfied: idna<4,>=2.5 in /usr/local/lib/python3.10/dist-packages (from requests->unstructured==0.18.11) (3.10)\nRequirement already satisfied: urllib3<3,>=1.21.1 in /usr/local/lib/python3.10/dist-packages (from requests->unstructured==0.18.11) (2.3.0)\nRequirement already satisfied: certifi>=2017.4.17 in /usr/local/lib/python3.10/dist-packages (from requests->unstructured==0.18.11) (2025.1.31)\nRequirement already satisfied: aiofiles>=24.1.0 in /home/repl/.local/lib/python3.10/site-packages (from unstructured-client->unstructured==0.18.11) (24.1.0)\nRequirement already satisfied: cryptography>=3.1 in /usr/local/lib/python3.10/dist-packages (from unstructured-client->unstructured==0.18.11) (44.0.1)\nRequirement already satisfied: httpcore>=1.0.9 in /home/repl/.local/lib/python3.10/site-packages (from unstructured-client->unstructured==0.18.11) (1.0.9)\nRequirement already satisfied: httpx>=0.27.0 in /usr/local/lib/python3.10/dist-packages (from unstructured-client->unstructured==0.18.11) (0.27.2)\nRequirement already satisfied: pydantic>=2.11.2 in /home/repl/.local/lib/python3.10/site-packages (from unstructured-client->unstructured==0.18.11) (2.11.7)\nRequirement already satisfied: pypdf>=4.0 in /usr/local/lib/python3.10/dist-packages (from unstructured-client->unstructured==0.18.11) (4.3.1)\nRequirement already satisfied: requests-toolbelt>=1.0.0 in /usr/local/lib/python3.10/dist-packages (from unstructured-client->unstructured==0.18.11) (1.0.0)\nRequirement already satisfied: cffi>=1.12 in /usr/local/lib/python3.10/dist-packages (from cryptography>=3.1->unstructured-client->unstructured==0.18.11) (1.17.1)\nRequirement already satisfied: pycparser in /usr/local/lib/python3.10/dist-packages (from cffi>=1.12->cryptography>=3.1->unstructured-client->unstructured==0.18.11) (2.22)\nRequirement already satisfied: h11>=0.16 in /home/repl/.local/lib/python3.10/site-packages (from httpcore>=1.0.9->unstructured-client->unstructured==0.18.11) (0.16.0)\nRequirement already satisfied: anyio in /usr/local/lib/python3.10/dist-packages (from httpx>=0.27.0->unstructured-client->unstructured==0.18.11) (4.8.0)\nRequirement already satisfied: sniffio in /usr/local/lib/python3.10/dist-packages (from httpx>=0.27.0->unstructured-client->unstructured==0.18.11) (1.3.1)\nRequirement already satisfied: annotated-types>=0.6.0 in /usr/local/lib/python3.10/dist-packages (from pydantic>=2.11.2->unstructured-client->unstructured==0.18.11) (0.7.0)\nRequirement already satisfied: pydantic-core==2.33.2 in /home/repl/.local/lib/python3.10/site-packages (from pydantic>=2.11.2->unstructured-client->unstructured==0.18.11) (2.33.2)\nRequirement already satisfied: typing-inspection>=0.4.0 in /home/repl/.local/lib/python3.10/site-packages (from pydantic>=2.11.2->unstructured-client->unstructured==0.18.11) (0.4.1)\nRequirement already satisfied: exceptiongroup>=1.0.2 in /usr/local/lib/python3.10/dist-packages (from anyio->httpx>=0.27.0->unstructured-client->unstructured==0.18.11) (1.2.2)\nDefaulting to user installation because normal site-packages is not writeable\nRequirement already satisfied: langchain-chroma==0.2.5 in /home/repl/.local/lib/python3.10/site-packages (0.2.5)\nRequirement already satisfied: langchain-core>=0.3.70 in /home/repl/.local/lib/python3.10/site-packages (from langchain-chroma==0.2.5) (0.3.72)\nRequirement already satisfied: numpy>=1.26.0 in /usr/local/lib/python3.10/dist-packages (from langchain-chroma==0.2.5) (1.26.4)\nRequirement already satisfied: chromadb>=1.0.9 in /home/repl/.local/lib/python3.10/site-packages (from langchain-chroma==0.2.5) (1.0.20)\nRequirement already satisfied: build>=1.0.3 in /usr/local/lib/python3.10/dist-packages (from chromadb>=1.0.9->langchain-chroma==0.2.5) (1.2.2.post1)\nRequirement already satisfied: pydantic>=1.9 in /home/repl/.local/lib/python3.10/site-packages (from chromadb>=1.0.9->langchain-chroma==0.2.5) (2.11.7)\nRequirement already satisfied: pybase64>=1.4.1 in /home/repl/.local/lib/python3.10/site-packages (from chromadb>=1.0.9->langchain-chroma==0.2.5) (1.4.2)\nRequirement already satisfied: uvicorn>=0.18.3 in /usr/local/lib/python3.10/dist-packages (from uvicorn[standard]>=0.18.3->chromadb>=1.0.9->langchain-chroma==0.2.5) (0.34.0)\nRequirement already satisfied: posthog<6.0.0,>=2.4.0 in /usr/local/lib/python3.10/dist-packages (from chromadb>=1.0.9->langchain-chroma==0.2.5) (3.12.1)\nRequirement already satisfied: typing-extensions>=4.5.0 in /usr/local/lib/python3.10/dist-packages (from chromadb>=1.0.9->langchain-chroma==0.2.5) (4.12.2)\nRequirement already satisfied: onnxruntime>=1.14.1 in /usr/local/lib/python3.10/dist-packages (from chromadb>=1.0.9->langchain-chroma==0.2.5) (1.20.1)\nRequirement already satisfied: opentelemetry-api>=1.2.0 in /usr/local/lib/python3.10/dist-packages (from chromadb>=1.0.9->langchain-chroma==0.2.5) (1.30.0)\nRequirement already satisfied: opentelemetry-exporter-otlp-proto-grpc>=1.2.0 in /usr/local/lib/python3.10/dist-packages (from chromadb>=1.0.9->langchain-chroma==0.2.5) (1.30.0)\nRequirement already satisfied: opentelemetry-sdk>=1.2.0 in /usr/local/lib/python3.10/dist-packages (from chromadb>=1.0.9->langchain-chroma==0.2.5) (1.30.0)\nRequirement already satisfied: tokenizers>=0.13.2 in /usr/local/lib/python3.10/dist-packages (from chromadb>=1.0.9->langchain-chroma==0.2.5) (0.21.0)\nRequirement already satisfied: pypika>=0.48.9 in /usr/local/lib/python3.10/dist-packages (from chromadb>=1.0.9->langchain-chroma==0.2.5) (0.48.9)\nRequirement already satisfied: tqdm>=4.65.0 in /usr/local/lib/python3.10/dist-packages (from chromadb>=1.0.9->langchain-chroma==0.2.5) (4.67.1)\nRequirement already satisfied: overrides>=7.3.1 in /usr/local/lib/python3.10/dist-packages (from chromadb>=1.0.9->langchain-chroma==0.2.5) (7.7.0)\nRequirement already satisfied: importlib-resources in /usr/local/lib/python3.10/dist-packages (from chromadb>=1.0.9->langchain-chroma==0.2.5) (6.5.2)\nRequirement already satisfied: grpcio>=1.58.0 in /usr/local/lib/python3.10/dist-packages (from chromadb>=1.0.9->langchain-chroma==0.2.5) (1.70.0)\nRequirement already satisfied: bcrypt>=4.0.1 in /usr/local/lib/python3.10/dist-packages (from chromadb>=1.0.9->langchain-chroma==0.2.5) (4.2.1)\nRequirement already satisfied: typer>=0.9.0 in /usr/local/lib/python3.10/dist-packages (from chromadb>=1.0.9->langchain-chroma==0.2.5) (0.9.4)\nRequirement already satisfied: kubernetes>=28.1.0 in /usr/local/lib/python3.10/dist-packages (from chromadb>=1.0.9->langchain-chroma==0.2.5) (32.0.0)\nRequirement already satisfied: tenacity>=8.2.3 in /usr/local/lib/python3.10/dist-packages (from chromadb>=1.0.9->langchain-chroma==0.2.5) (8.5.0)\nRequirement already satisfied: pyyaml>=6.0.0 in /usr/local/lib/python3.10/dist-packages (from chromadb>=1.0.9->langchain-chroma==0.2.5) (6.0.1)\nRequirement already satisfied: mmh3>=4.0.1 in /usr/local/lib/python3.10/dist-packages (from chromadb>=1.0.9->langchain-chroma==0.2.5) (5.1.0)\nRequirement already satisfied: orjson>=3.9.12 in /usr/local/lib/python3.10/dist-packages (from chromadb>=1.0.9->langchain-chroma==0.2.5) (3.10.15)\nRequirement already satisfied: httpx>=0.27.0 in /usr/local/lib/python3.10/dist-packages (from chromadb>=1.0.9->langchain-chroma==0.2.5) (0.27.2)\nRequirement already satisfied: rich>=10.11.0 in /usr/local/lib/python3.10/dist-packages (from chromadb>=1.0.9->langchain-chroma==0.2.5) (13.9.4)\nRequirement already satisfied: jsonschema>=4.19.0 in /usr/local/lib/python3.10/dist-packages (from chromadb>=1.0.9->langchain-chroma==0.2.5) (4.23.0)\nRequirement already satisfied: requests<3.0,>=2.7 in /usr/local/lib/python3.10/dist-packages (from posthog<6.0.0,>=2.4.0->chromadb>=1.0.9->langchain-chroma==0.2.5) (2.32.3)\nRequirement already satisfied: six>=1.5 in /usr/lib/python3/dist-packages (from posthog<6.0.0,>=2.4.0->chromadb>=1.0.9->langchain-chroma==0.2.5) (1.16.0)\nRequirement already satisfied: monotonic>=1.5 in /usr/local/lib/python3.10/dist-packages (from posthog<6.0.0,>=2.4.0->chromadb>=1.0.9->langchain-chroma==0.2.5) (1.6)\nRequirement already satisfied: backoff>=1.10.0 in /usr/local/lib/python3.10/dist-packages (from posthog<6.0.0,>=2.4.0->chromadb>=1.0.9->langchain-chroma==0.2.5) (2.2.1)\nRequirement already satisfied: python-dateutil>2.1 in /usr/local/lib/python3.10/dist-packages (from posthog<6.0.0,>=2.4.0->chromadb>=1.0.9->langchain-chroma==0.2.5) (2.9.0.post0)\nRequirement already satisfied: charset-normalizer<4,>=2 in /usr/local/lib/python3.10/dist-packages (from requests<3.0,>=2.7->posthog<6.0.0,>=2.4.0->chromadb>=1.0.9->langchain-chroma==0.2.5) (3.4.1)\nRequirement already satisfied: idna<4,>=2.5 in /usr/local/lib/python3.10/dist-packages (from requests<3.0,>=2.7->posthog<6.0.0,>=2.4.0->chromadb>=1.0.9->langchain-chroma==0.2.5) (3.10)\nRequirement already satisfied: urllib3<3,>=1.21.1 in /usr/local/lib/python3.10/dist-packages (from requests<3.0,>=2.7->posthog<6.0.0,>=2.4.0->chromadb>=1.0.9->langchain-chroma==0.2.5) (2.3.0)\nRequirement already satisfied: certifi>=2017.4.17 in /usr/local/lib/python3.10/dist-packages (from requests<3.0,>=2.7->posthog<6.0.0,>=2.4.0->chromadb>=1.0.9->langchain-chroma==0.2.5) (2025.1.31)\nRequirement already satisfied: packaging>=19.1 in /usr/local/lib/python3.10/dist-packages (from build>=1.0.3->chromadb>=1.0.9->langchain-chroma==0.2.5) (23.2)\nRequirement already satisfied: pyproject_hooks in /usr/local/lib/python3.10/dist-packages (from build>=1.0.3->chromadb>=1.0.9->langchain-chroma==0.2.5) (1.2.0)\nRequirement already satisfied: tomli>=1.1.0 in /usr/local/lib/python3.10/dist-packages (from build>=1.0.3->chromadb>=1.0.9->langchain-chroma==0.2.5) (2.2.1)\nRequirement already satisfied: anyio in /usr/local/lib/python3.10/dist-packages (from httpx>=0.27.0->chromadb>=1.0.9->langchain-chroma==0.2.5) (4.8.0)\nRequirement already satisfied: httpcore==1.* in /home/repl/.local/lib/python3.10/site-packages (from httpx>=0.27.0->chromadb>=1.0.9->langchain-chroma==0.2.5) (1.0.9)\nRequirement already satisfied: sniffio in /usr/local/lib/python3.10/dist-packages (from httpx>=0.27.0->chromadb>=1.0.9->langchain-chroma==0.2.5) (1.3.1)\nRequirement already satisfied: h11>=0.16 in /home/repl/.local/lib/python3.10/site-packages (from httpcore==1.*->httpx>=0.27.0->chromadb>=1.0.9->langchain-chroma==0.2.5) (0.16.0)\nRequirement already satisfied: attrs>=22.2.0 in /usr/local/lib/python3.10/dist-packages (from jsonschema>=4.19.0->chromadb>=1.0.9->langchain-chroma==0.2.5) (25.1.0)\nRequirement already satisfied: jsonschema-specifications>=2023.03.6 in /usr/local/lib/python3.10/dist-packages (from jsonschema>=4.19.0->chromadb>=1.0.9->langchain-chroma==0.2.5) (2024.10.1)\nRequirement already satisfied: referencing>=0.28.4 in /usr/local/lib/python3.10/dist-packages (from jsonschema>=4.19.0->chromadb>=1.0.9->langchain-chroma==0.2.5) (0.36.2)\nRequirement already satisfied: rpds-py>=0.7.1 in /usr/local/lib/python3.10/dist-packages (from jsonschema>=4.19.0->chromadb>=1.0.9->langchain-chroma==0.2.5) (0.22.3)\nRequirement already satisfied: google-auth>=1.0.1 in /usr/local/lib/python3.10/dist-packages (from kubernetes>=28.1.0->chromadb>=1.0.9->langchain-chroma==0.2.5) (2.38.0)\nRequirement already satisfied: websocket-client!=0.40.0,!=0.41.*,!=0.42.*,>=0.32.0 in /usr/local/lib/python3.10/dist-packages (from kubernetes>=28.1.0->chromadb>=1.0.9->langchain-chroma==0.2.5) (1.8.0)\nRequirement already satisfied: requests-oauthlib in /usr/local/lib/python3.10/dist-packages (from kubernetes>=28.1.0->chromadb>=1.0.9->langchain-chroma==0.2.5) (2.0.0)\nRequirement already satisfied: oauthlib>=3.2.2 in /usr/local/lib/python3.10/dist-packages (from kubernetes>=28.1.0->chromadb>=1.0.9->langchain-chroma==0.2.5) (3.2.2)\nRequirement already satisfied: durationpy>=0.7 in /usr/local/lib/python3.10/dist-packages (from kubernetes>=28.1.0->chromadb>=1.0.9->langchain-chroma==0.2.5) (0.9)\nRequirement already satisfied: cachetools<6.0,>=2.0.0 in /usr/local/lib/python3.10/dist-packages (from google-auth>=1.0.1->kubernetes>=28.1.0->chromadb>=1.0.9->langchain-chroma==0.2.5) (5.5.1)\nRequirement already satisfied: pyasn1-modules>=0.2.1 in /usr/local/lib/python3.10/dist-packages (from google-auth>=1.0.1->kubernetes>=28.1.0->chromadb>=1.0.9->langchain-chroma==0.2.5) (0.4.1)\nRequirement already satisfied: rsa<5,>=3.1.4 in /usr/local/lib/python3.10/dist-packages (from google-auth>=1.0.1->kubernetes>=28.1.0->chromadb>=1.0.9->langchain-chroma==0.2.5) (4.7.2)\nRequirement already satisfied: pyasn1>=0.1.3 in /usr/local/lib/python3.10/dist-packages (from rsa<5,>=3.1.4->google-auth>=1.0.1->kubernetes>=28.1.0->chromadb>=1.0.9->langchain-chroma==0.2.5) (0.6.1)\nRequirement already satisfied: langsmith>=0.3.45 in /home/repl/.local/lib/python3.10/site-packages (from langchain-core>=0.3.70->langchain-chroma==0.2.5) (0.4.20)\nRequirement already satisfied: jsonpatch<2.0,>=1.33 in /usr/local/lib/python3.10/dist-packages (from langchain-core>=0.3.70->langchain-chroma==0.2.5) (1.33)\nRequirement already satisfied: jsonpointer>=1.9 in /usr/local/lib/python3.10/dist-packages (from jsonpatch<2.0,>=1.33->langchain-core>=0.3.70->langchain-chroma==0.2.5) (3.0.0)\nRequirement already satisfied: requests-toolbelt>=1.0.0 in /usr/local/lib/python3.10/dist-packages (from langsmith>=0.3.45->langchain-core>=0.3.70->langchain-chroma==0.2.5) (1.0.0)\nRequirement already satisfied: zstandard>=0.23.0 in /home/repl/.local/lib/python3.10/site-packages (from langsmith>=0.3.45->langchain-core>=0.3.70->langchain-chroma==0.2.5) (0.24.0)\nRequirement already satisfied: annotated-types>=0.6.0 in /usr/local/lib/python3.10/dist-packages (from pydantic>=1.9->chromadb>=1.0.9->langchain-chroma==0.2.5) (0.7.0)\nRequirement already satisfied: pydantic-core==2.33.2 in /home/repl/.local/lib/python3.10/site-packages (from pydantic>=1.9->chromadb>=1.0.9->langchain-chroma==0.2.5) (2.33.2)\nRequirement already satisfied: typing-inspection>=0.4.0 in /home/repl/.local/lib/python3.10/site-packages (from pydantic>=1.9->chromadb>=1.0.9->langchain-chroma==0.2.5) (0.4.1)\nRequirement already satisfied: coloredlogs in /usr/local/lib/python3.10/dist-packages (from onnxruntime>=1.14.1->chromadb>=1.0.9->langchain-chroma==0.2.5) (15.0.1)\nRequirement already satisfied: flatbuffers in /usr/local/lib/python3.10/dist-packages (from onnxruntime>=1.14.1->chromadb>=1.0.9->langchain-chroma==0.2.5) (25.2.10)\nRequirement already satisfied: protobuf in /usr/local/lib/python3.10/dist-packages (from onnxruntime>=1.14.1->chromadb>=1.0.9->langchain-chroma==0.2.5) (5.27.3)\nRequirement already satisfied: sympy in /usr/local/lib/python3.10/dist-packages (from onnxruntime>=1.14.1->chromadb>=1.0.9->langchain-chroma==0.2.5) (1.13.3)\nRequirement already satisfied: deprecated>=1.2.6 in /usr/local/lib/python3.10/dist-packages (from opentelemetry-api>=1.2.0->chromadb>=1.0.9->langchain-chroma==0.2.5) (1.2.18)\nRequirement already satisfied: importlib-metadata<=8.5.0,>=6.0 in /usr/local/lib/python3.10/dist-packages (from opentelemetry-api>=1.2.0->chromadb>=1.0.9->langchain-chroma==0.2.5) (6.11.0)\nRequirement already satisfied: zipp>=0.5 in /usr/lib/python3/dist-packages (from importlib-metadata<=8.5.0,>=6.0->opentelemetry-api>=1.2.0->chromadb>=1.0.9->langchain-chroma==0.2.5) (1.0.0)\nRequirement already satisfied: wrapt<2,>=1.10 in /usr/local/lib/python3.10/dist-packages (from deprecated>=1.2.6->opentelemetry-api>=1.2.0->chromadb>=1.0.9->langchain-chroma==0.2.5) (1.17.2)\nRequirement already satisfied: googleapis-common-protos~=1.52 in /usr/local/lib/python3.10/dist-packages (from opentelemetry-exporter-otlp-proto-grpc>=1.2.0->chromadb>=1.0.9->langchain-chroma==0.2.5) (1.67.0rc1)\nRequirement already satisfied: opentelemetry-exporter-otlp-proto-common==1.30.0 in /usr/local/lib/python3.10/dist-packages (from opentelemetry-exporter-otlp-proto-grpc>=1.2.0->chromadb>=1.0.9->langchain-chroma==0.2.5) (1.30.0)\nRequirement already satisfied: opentelemetry-proto==1.30.0 in /usr/local/lib/python3.10/dist-packages (from opentelemetry-exporter-otlp-proto-grpc>=1.2.0->chromadb>=1.0.9->langchain-chroma==0.2.5) (1.30.0)\nRequirement already satisfied: opentelemetry-semantic-conventions==0.51b0 in /usr/local/lib/python3.10/dist-packages (from opentelemetry-sdk>=1.2.0->chromadb>=1.0.9->langchain-chroma==0.2.5) (0.51b0)\nRequirement already satisfied: markdown-it-py>=2.2.0 in /usr/local/lib/python3.10/dist-packages (from rich>=10.11.0->chromadb>=1.0.9->langchain-chroma==0.2.5) (3.0.0)\nRequirement already satisfied: pygments<3.0.0,>=2.13.0 in /usr/local/lib/python3.10/dist-packages (from rich>=10.11.0->chromadb>=1.0.9->langchain-chroma==0.2.5) (2.19.1)\nRequirement already satisfied: mdurl~=0.1 in /usr/local/lib/python3.10/dist-packages (from markdown-it-py>=2.2.0->rich>=10.11.0->chromadb>=1.0.9->langchain-chroma==0.2.5) (0.1.2)\nRequirement already satisfied: huggingface-hub<1.0,>=0.16.4 in /usr/local/lib/python3.10/dist-packages (from tokenizers>=0.13.2->chromadb>=1.0.9->langchain-chroma==0.2.5) (0.28.1)\nRequirement already satisfied: filelock in /usr/local/lib/python3.10/dist-packages (from huggingface-hub<1.0,>=0.16.4->tokenizers>=0.13.2->chromadb>=1.0.9->langchain-chroma==0.2.5) (3.17.0)\nRequirement already satisfied: fsspec>=2023.5.0 in /usr/local/lib/python3.10/dist-packages (from huggingface-hub<1.0,>=0.16.4->tokenizers>=0.13.2->chromadb>=1.0.9->langchain-chroma==0.2.5) (2024.9.0)\nRequirement already satisfied: click<9.0.0,>=7.1.1 in /usr/local/lib/python3.10/dist-packages (from typer>=0.9.0->chromadb>=1.0.9->langchain-chroma==0.2.5) (8.1.8)\nRequirement already satisfied: httptools>=0.6.3 in /usr/local/lib/python3.10/dist-packages (from uvicorn[standard]>=0.18.3->chromadb>=1.0.9->langchain-chroma==0.2.5) (0.6.4)\nRequirement already satisfied: python-dotenv>=0.13 in /usr/local/lib/python3.10/dist-packages (from uvicorn[standard]>=0.18.3->chromadb>=1.0.9->langchain-chroma==0.2.5) (1.0.1)\nRequirement already satisfied: uvloop!=0.15.0,!=0.15.1,>=0.14.0 in /usr/local/lib/python3.10/dist-packages (from uvicorn[standard]>=0.18.3->chromadb>=1.0.9->langchain-chroma==0.2.5) (0.21.0)\nRequirement already satisfied: watchfiles>=0.13 in /usr/local/lib/python3.10/dist-packages (from uvicorn[standard]>=0.18.3->chromadb>=1.0.9->langchain-chroma==0.2.5) (1.0.4)\nRequirement already satisfied: websockets>=10.4 in /usr/local/lib/python3.10/dist-packages (from uvicorn[standard]>=0.18.3->chromadb>=1.0.9->langchain-chroma==0.2.5) (13.1)\nRequirement already satisfied: exceptiongroup>=1.0.2 in /usr/local/lib/python3.10/dist-packages (from anyio->httpx>=0.27.0->chromadb>=1.0.9->langchain-chroma==0.2.5) (1.2.2)\nRequirement already satisfied: humanfriendly>=9.1 in /usr/local/lib/python3.10/dist-packages (from coloredlogs->onnxruntime>=1.14.1->chromadb>=1.0.9->langchain-chroma==0.2.5) (10.0)\nRequirement already satisfied: mpmath<1.4,>=1.1.0 in /usr/local/lib/python3.10/dist-packages (from sympy->onnxruntime>=1.14.1->chromadb>=1.0.9->langchain-chroma==0.2.5) (1.3.0)\nDefaulting to user installation because normal site-packages is not writeable\nRequirement already satisfied: langchain-text-splitters==0.3.9 in /home/repl/.local/lib/python3.10/site-packages (0.3.9)\nRequirement already satisfied: langchain-core<1.0.0,>=0.3.72 in /home/repl/.local/lib/python3.10/site-packages (from langchain-text-splitters==0.3.9) (0.3.72)\nRequirement already satisfied: langsmith>=0.3.45 in /home/repl/.local/lib/python3.10/site-packages (from langchain-core<1.0.0,>=0.3.72->langchain-text-splitters==0.3.9) (0.4.20)\nRequirement already satisfied: tenacity!=8.4.0,<10.0.0,>=8.1.0 in /usr/local/lib/python3.10/dist-packages (from langchain-core<1.0.0,>=0.3.72->langchain-text-splitters==0.3.9) (8.5.0)\nRequirement already satisfied: jsonpatch<2.0,>=1.33 in /usr/local/lib/python3.10/dist-packages (from langchain-core<1.0.0,>=0.3.72->langchain-text-splitters==0.3.9) (1.33)\nRequirement already satisfied: PyYAML>=5.3 in /usr/local/lib/python3.10/dist-packages (from langchain-core<1.0.0,>=0.3.72->langchain-text-splitters==0.3.9) (6.0.1)\nRequirement already satisfied: typing-extensions>=4.7 in /usr/local/lib/python3.10/dist-packages (from langchain-core<1.0.0,>=0.3.72->langchain-text-splitters==0.3.9) (4.12.2)\nRequirement already satisfied: packaging>=23.2 in /usr/local/lib/python3.10/dist-packages (from langchain-core<1.0.0,>=0.3.72->langchain-text-splitters==0.3.9) (23.2)\nRequirement already satisfied: pydantic>=2.7.4 in /home/repl/.local/lib/python3.10/site-packages (from langchain-core<1.0.0,>=0.3.72->langchain-text-splitters==0.3.9) (2.11.7)\nRequirement already satisfied: jsonpointer>=1.9 in /usr/local/lib/python3.10/dist-packages (from jsonpatch<2.0,>=1.33->langchain-core<1.0.0,>=0.3.72->langchain-text-splitters==0.3.9) (3.0.0)\nRequirement already satisfied: httpx<1,>=0.23.0 in /usr/local/lib/python3.10/dist-packages (from langsmith>=0.3.45->langchain-core<1.0.0,>=0.3.72->langchain-text-splitters==0.3.9) (0.27.2)\nRequirement already satisfied: orjson>=3.9.14 in /usr/local/lib/python3.10/dist-packages (from langsmith>=0.3.45->langchain-core<1.0.0,>=0.3.72->langchain-text-splitters==0.3.9) (3.10.15)\nRequirement already satisfied: requests-toolbelt>=1.0.0 in /usr/local/lib/python3.10/dist-packages (from langsmith>=0.3.45->langchain-core<1.0.0,>=0.3.72->langchain-text-splitters==0.3.9) (1.0.0)\nRequirement already satisfied: requests>=2.0.0 in /usr/local/lib/python3.10/dist-packages (from langsmith>=0.3.45->langchain-core<1.0.0,>=0.3.72->langchain-text-splitters==0.3.9) (2.32.3)\nRequirement already satisfied: zstandard>=0.23.0 in /home/repl/.local/lib/python3.10/site-packages (from langsmith>=0.3.45->langchain-core<1.0.0,>=0.3.72->langchain-text-splitters==0.3.9) (0.24.0)\nRequirement already satisfied: anyio in /usr/local/lib/python3.10/dist-packages (from httpx<1,>=0.23.0->langsmith>=0.3.45->langchain-core<1.0.0,>=0.3.72->langchain-text-splitters==0.3.9) (4.8.0)\nRequirement already satisfied: certifi in /usr/local/lib/python3.10/dist-packages (from httpx<1,>=0.23.0->langsmith>=0.3.45->langchain-core<1.0.0,>=0.3.72->langchain-text-splitters==0.3.9) (2025.1.31)\nRequirement already satisfied: httpcore==1.* in /home/repl/.local/lib/python3.10/site-packages (from httpx<1,>=0.23.0->langsmith>=0.3.45->langchain-core<1.0.0,>=0.3.72->langchain-text-splitters==0.3.9) (1.0.9)\nRequirement already satisfied: idna in /usr/local/lib/python3.10/dist-packages (from httpx<1,>=0.23.0->langsmith>=0.3.45->langchain-core<1.0.0,>=0.3.72->langchain-text-splitters==0.3.9) (3.10)\nRequirement already satisfied: sniffio in /usr/local/lib/python3.10/dist-packages (from httpx<1,>=0.23.0->langsmith>=0.3.45->langchain-core<1.0.0,>=0.3.72->langchain-text-splitters==0.3.9) (1.3.1)\nRequirement already satisfied: h11>=0.16 in /home/repl/.local/lib/python3.10/site-packages (from httpcore==1.*->httpx<1,>=0.23.0->langsmith>=0.3.45->langchain-core<1.0.0,>=0.3.72->langchain-text-splitters==0.3.9) (0.16.0)\nRequirement already satisfied: annotated-types>=0.6.0 in /usr/local/lib/python3.10/dist-packages (from pydantic>=2.7.4->langchain-core<1.0.0,>=0.3.72->langchain-text-splitters==0.3.9) (0.7.0)\nRequirement already satisfied: pydantic-core==2.33.2 in /home/repl/.local/lib/python3.10/site-packages (from pydantic>=2.7.4->langchain-core<1.0.0,>=0.3.72->langchain-text-splitters==0.3.9) (2.33.2)\nRequirement already satisfied: typing-inspection>=0.4.0 in /home/repl/.local/lib/python3.10/site-packages (from pydantic>=2.7.4->langchain-core<1.0.0,>=0.3.72->langchain-text-splitters==0.3.9) (0.4.1)\nRequirement already satisfied: charset-normalizer<4,>=2 in /usr/local/lib/python3.10/dist-packages (from requests>=2.0.0->langsmith>=0.3.45->langchain-core<1.0.0,>=0.3.72->langchain-text-splitters==0.3.9) (3.4.1)\nRequirement already satisfied: urllib3<3,>=1.21.1 in /usr/local/lib/python3.10/dist-packages (from requests>=2.0.0->langsmith>=0.3.45->langchain-core<1.0.0,>=0.3.72->langchain-text-splitters==0.3.9) (2.3.0)\nRequirement already satisfied: exceptiongroup>=1.0.2 in /usr/local/lib/python3.10/dist-packages (from anyio->httpx<1,>=0.23.0->langsmith>=0.3.45->langchain-core<1.0.0,>=0.3.72->langchain-text-splitters==0.3.9) (1.2.2)\n"
        }
      ]
    },
    {
      "source": [
        "!python3 -m pip install --upgrade pip"
      ],
      "metadata": {
        "executionCancelledAt": null,
        "executionTime": 2969,
        "lastExecutedAt": 1756344104499,
        "lastExecutedByKernel": "fe2e1d1a-5c22-4217-87d8-76056ece2d4f",
        "lastScheduledRunId": null,
        "lastSuccessfullyExecutedCode": "!python3 -m pip install --upgrade pip",
        "outputsMetadata": {
          "0": {
            "height": 80,
            "type": "stream"
          }
        },
        "id": "b6a77250-41f1-4158-8116-1b2ec4b74a7c",
        "outputId": "b161f2db-0c25-4ded-9b8d-eef068a355a0"
      },
      "cell_type": "code",
      "id": "b6a77250-41f1-4158-8116-1b2ec4b74a7c",
      "outputs": [
        {
          "output_type": "stream",
          "name": "stdout",
          "text": "Defaulting to user installation because normal site-packages is not writeable\nRequirement already satisfied: pip in /home/repl/.local/lib/python3.10/site-packages (25.2)\n"
        }
      ],
      "execution_count": null
    },
    {
      "source": [
        "# Import the required packages\n",
        "from langchain_core.prompts import ChatPromptTemplate\n",
        "from langchain_openai import ChatOpenAI, OpenAIEmbeddings\n",
        "from langchain_community.document_loaders import UnstructuredHTMLLoader\n",
        "from langchain_core.runnables import RunnablePassthrough\n",
        "from langchain_text_splitters import RecursiveCharacterTextSplitter\n",
        "from langchain_chroma import Chroma\n",
        "import os"
      ],
      "metadata": {
        "executionCancelledAt": null,
        "executionTime": 49,
        "lastExecutedAt": 1756344104549,
        "lastExecutedByKernel": "fe2e1d1a-5c22-4217-87d8-76056ece2d4f",
        "lastScheduledRunId": null,
        "lastSuccessfullyExecutedCode": "# Import the required packages\nfrom langchain_core.prompts import ChatPromptTemplate\nfrom langchain_openai import ChatOpenAI, OpenAIEmbeddings\nfrom langchain_community.document_loaders import UnstructuredHTMLLoader\nfrom langchain_core.runnables import RunnablePassthrough\nfrom langchain_text_splitters import RecursiveCharacterTextSplitter\nfrom langchain_chroma import Chroma",
        "id": "61baf413-6464-4c1c-a52d-b3764c124602"
      },
      "id": "61baf413-6464-4c1c-a52d-b3764c124602",
      "cell_type": "code",
      "execution_count": null,
      "outputs": []
    },
    {
      "cell_type": "markdown",
      "source": [
        "## Loading Data"
      ],
      "metadata": {
        "id": "iPuEXgAr6S2f"
      },
      "id": "iPuEXgAr6S2f"
    },
    {
      "cell_type": "markdown",
      "source": [
        "Load the HTML as a LangChain document loader"
      ],
      "metadata": {
        "id": "qRye0GVl6Y_B"
      },
      "id": "qRye0GVl6Y_B"
    },
    {
      "source": [
        "loader = UnstructuredHTMLLoader(file_path=\"data/mg-zs-warning-messages.html\")\n",
        "car_docs = loader.load()"
      ],
      "metadata": {
        "executionCancelledAt": null,
        "executionTime": 51,
        "lastExecutedAt": 1756344104601,
        "lastExecutedByKernel": "fe2e1d1a-5c22-4217-87d8-76056ece2d4f",
        "lastScheduledRunId": null,
        "lastSuccessfullyExecutedCode": "# Load the HTML as a LangChain document loader\nloader = UnstructuredHTMLLoader(file_path=\"data/mg-zs-warning-messages.html\")\ncar_docs = loader.load()",
        "id": "bed58c70-1315-409c-a590-a4c7af3cad80"
      },
      "id": "bed58c70-1315-409c-a590-a4c7af3cad80",
      "cell_type": "code",
      "execution_count": null,
      "outputs": []
    },
    {
      "source": [
        "# Display the contents of the car_docs documents\n",
        "for i, doc in enumerate(car_docs):\n",
        "    print(f\"Document {i+1}:\\n{doc}\\n\")"
      ],
      "metadata": {
        "executionCancelledAt": null,
        "executionTime": 46,
        "lastExecutedAt": 1756344104649,
        "lastExecutedByKernel": "fe2e1d1a-5c22-4217-87d8-76056ece2d4f",
        "lastScheduledRunId": null,
        "lastSuccessfullyExecutedCode": "# Display the contents of the car_docs documents\nfor i, doc in enumerate(car_docs):\n    print(f\"Document {i+1}:\\n{doc}\\n\")",
        "outputsMetadata": {
          "0": {
            "height": 616,
            "type": "stream"
          }
        },
        "id": "5b891fc9-8d69-4db0-a53a-e29d70988a85",
        "outputId": "1de97d06-474a-4484-baba-1ca92f85d58a"
      },
      "cell_type": "code",
      "id": "5b891fc9-8d69-4db0-a53a-e29d70988a85",
      "outputs": [
        {
          "output_type": "stream",
          "name": "stdout",
          "text": "Document 1:\npage_content='Warning Message Procedure Cruise Control Fault Indicates that the cruise control system has detected a fault. Please consult an MG Authorised Repairer as soon as possible. Active Speed Limiter Fault Indicates that the active speed limit system has detected a fault. Contact an MG Authorised Repairer as soon as possible. Engine Coolant Temperature High High engine coolant temperature could result in severe damage. As soon as conditions permit, safely stop the vehicle and switch off the engine and contact an MG Authorised Repairer immediately. Engine Coolant Temperature Sensor Fault Indicates that the engine coolant temperature sensor has failed. As soon as conditions permit, safely stop the vehicle and switch off the engine and contact an MG Authorised Repairer immediately.\n\nWarning Message Procedure Low Oil Pressure Indicates that the oil pressure is too low, which may result in severe engine damage. As soon as safety permits, stop the car, switch off the engine and check the engine oil level. Contact an MG Authorised Repairer as soon as possible. Engine Fault Indicates that a failure has occurred that will effect engine performance and emissions. Contact an MG Authorised Repairer as soon as possible. Check Engine Indicates that a failure has occurred that may severely damage the engine. As soon as conditions permit, safely stop the vehicle , switch off the engine and contact an MG Authorised Repairer immediately.\n\nWarning Message Procedure Stop Start System Fault Indicates that the Stop/Start intelligent fuel saving system has detected a fault. Please consult an MG Authorised Repairer as soon as possible. Clutch Switch Fault Indicates that the clutch switch has detected a fault. Please consult an MG Authorised Repairer as soon as possible. Gasoline Particular Filter Full Indicates that the gasoline particular filter is full. Please consult an MG Authorised Repairer as soon as possible. Ignition System Fault Indicates that the ignition system has detected a fault. Please consult an MG Authorised Repairer immediately.\n\nWarning Message Procedure Start Stop Button Fault Indicates that the Start Stop button has detected a fault. Please consult an MG Authorised Repairer immediately. Passive Entry Fault Indicates that the passive keyless entry (PKE) function has detected a fault. Please consult an MG Authorised Repairer as soon as possible. ABS Fault Indicates that the anti-lock brake system (ABS) has failed and the ABS function is about to be disabled. Please consult an MG Authorised Repairer immediately.\n\nWarning Message Procedure Brake Fault Indicates that the brake fluid could be low or a fault has been detected in the Electronic Brake-force Distribution (EBD) system. As soon as safety permits, stop the car, switch off the engine and check the brake fluid level. Contact an MG Authorised Repairer as soon as possible. Stability Control Fault Indicates that the stability control system has detected a fault. Please consult an MG Authorised Repairer immediately. Traction Control Fault Indicates that the traction control system has detected a fault. Please consult an MG Authorised Repairer immediately.\n\nWarning Message Procedure EPB System Fault Indicates that the electronic parking brake system (EPB) has detected a fault. Please consult an MG Authorised Repairer as soon as possible. Park Brake Force Not Enough Indicates that there is an issue with the electronic parking brake, it may not be able to provide adequate clamping force. Contact an MG Authorised Repairer as soon as possible. Autohold Fault Indicates that the Autohold System has detected a fault. Please consult an MG Authorised Repairer as soon as possible. Hill Descent Control Fault Indicates that the hill descent control system has detected a fault. Please consult an MG Authorised Repairer as soon as possible.\n\nWarning Message Procedure EPS Performance Reduced Indicates that the electric power steering system has a general failure and that the steering performance has been reduced. As soon as conditions permit, safely stop the vehicle and switch off the engine. After a short while, start the engine, drive the vehicle a short distance and monitor the operation of the steering, if the message is still displayed or the steering assistance reduced please contact an MG Authorised Repairer immediately. EPS Assistance Failure Indicates that the electric power steering system has failed. Please consult an MG Authorised Repairer immediately.\n\nWarning Message Procedure Steering Angle Fault Indicates that the steering angle sensor has failed. Please consult an MG Authorised Repairer as soon as possible. Steering Angle Uncalibrated Indicates that the steering angle sensor is not calibrated. Please consult an MG Authorised Repairer as soon as possible. ESCL Fault Indicates that a fault has been detected with the Electronic Steering Column Lock (ESCL). As soon as conditions permit, safely stop the vehicle and switch off the engine. Contact an MG Authorised Repairer as soon as possible. Fuel Sensor Fault Indicates that fuel sensor has detected a fault. Please consult an MG Authorised Repairer as soon as possible.\n\nWarning Message Procedure Airbag Fault Indicates that the Airbag system has detected a fault. As soon as conditions permit, safely stop the vehicle and switch off the engine and contact an MG Authorised Repairer immediately. Front Left/Front Right/Rear Left/Rear Right Tyre Sensor Battery Low Indicates that the Tyre Pressure Monitoring system has detected that a tyre pressure sensor has a low battery. Please consult an MG Authorised Repairer as soon as possible. TPMS Fault Indicates that the tyre pressure monitoring system has detected a fault. Please consult an MG Authorised Repairer as soon as possible.\n\nWarning Message Procedure 12V Battery Charging System Fault Indicates that the 12V battery charging system has failed. Please consult an MG Authorised Repairer immediately. Rear Drive Assist System Fault Indicates that the rear drive assist system (RDA) has detected a fault. Please consult an MG Authorised Repairer as soon as possible.' metadata={'source': 'data/mg-zs-warning-messages.html'}\n\n"
        }
      ],
      "execution_count": null
    },
    {
      "cell_type": "markdown",
      "source": [
        "## Load the models"
      ],
      "metadata": {
        "id": "sPcvfyY86kKs"
      },
      "id": "sPcvfyY86kKs"
    },
    {
      "source": [
        "# Load the models required to complete the exercise\n",
        "llm = ChatOpenAI(model=\"gpt-4o-mini\", temperature=0)\n",
        "embeddings = OpenAIEmbeddings(model=\"text-embedding-3-small\", openai_api_key=os.environ[\"OPENAI_API_KEY\"])"
      ],
      "metadata": {
        "executionCancelledAt": null,
        "executionTime": 98,
        "lastExecutedAt": 1756344104747,
        "lastExecutedByKernel": "fe2e1d1a-5c22-4217-87d8-76056ece2d4f",
        "lastScheduledRunId": null,
        "lastSuccessfullyExecutedCode": "import os\n\n# Load the models required to complete the exercise\nllm = ChatOpenAI(model=\"gpt-4o-mini\", temperature=0)\nembeddings = OpenAIEmbeddings(model=\"text-embedding-3-small\", openai_api_key=os.environ[\"OPENAI_API_KEY\"])",
        "id": "d09bd6c4-a307-4991-98ef-cde7b9c02d8b"
      },
      "id": "d09bd6c4-a307-4991-98ef-cde7b9c02d8b",
      "cell_type": "code",
      "execution_count": null,
      "outputs": []
    },
    {
      "cell_type": "markdown",
      "source": [
        "## Splitting Data\n",
        "\n",
        "The loaded document is split into smaller, manageable chunks  to facilitate efficient retrieval."
      ],
      "metadata": {
        "id": "EdAMgwff64gy"
      },
      "id": "EdAMgwff64gy"
    },
    {
      "source": [
        "# Initialize the RecursiveCharacterTextSplitter with desired chunk size and overlap\n",
        "text_splitter = RecursiveCharacterTextSplitter(chunk_size=1000, chunk_overlap=100)\n",
        "\n",
        "# Split the loaded documents into chunks\n",
        "car_docs_chunks = text_splitter.split_documents(car_docs)"
      ],
      "metadata": {
        "executionCancelledAt": null,
        "executionTime": 48,
        "lastExecutedAt": 1756344104845,
        "lastExecutedByKernel": "fe2e1d1a-5c22-4217-87d8-76056ece2d4f",
        "lastScheduledRunId": null,
        "lastSuccessfullyExecutedCode": "# Initialize the RecursiveCharacterTextSplitter with desired chunk size and overlap\ntext_splitter = RecursiveCharacterTextSplitter(chunk_size=1000, chunk_overlap=100)\n\n# Split the loaded documents into chunks\ncar_docs_chunks = text_splitter.split_documents(car_docs)",
        "id": "f6701a30-0a32-44b7-96a0-c93a0d689b7b"
      },
      "cell_type": "code",
      "id": "f6701a30-0a32-44b7-96a0-c93a0d689b7b",
      "outputs": [],
      "execution_count": null
    },
    {
      "source": [
        "# Display the contents of the car_docs_chunks\n",
        "for i, chunk in enumerate(car_docs_chunks):\n",
        "    print(f\"Chunk {i+1}:\\n{chunk}\\n\")"
      ],
      "metadata": {
        "executionCancelledAt": null,
        "executionTime": 48,
        "lastExecutedAt": 1756344104894,
        "lastExecutedByKernel": "fe2e1d1a-5c22-4217-87d8-76056ece2d4f",
        "lastScheduledRunId": null,
        "lastSuccessfullyExecutedCode": "# Display the contents of the car_docs_chunks\nfor i, chunk in enumerate(car_docs_chunks):\n    print(f\"Chunk {i+1}:\\n{chunk}\\n\")",
        "outputsMetadata": {
          "0": {
            "height": 616,
            "type": "stream"
          }
        },
        "id": "7b7e34c7-41ee-47fe-b1a3-4715478761aa",
        "outputId": "d4b30fe5-f85d-47b2-af53-fe16b9ea239d"
      },
      "cell_type": "code",
      "id": "7b7e34c7-41ee-47fe-b1a3-4715478761aa",
      "outputs": [
        {
          "output_type": "stream",
          "name": "stdout",
          "text": "Chunk 1:\npage_content='Warning Message Procedure Cruise Control Fault Indicates that the cruise control system has detected a fault. Please consult an MG Authorised Repairer as soon as possible. Active Speed Limiter Fault Indicates that the active speed limit system has detected a fault. Contact an MG Authorised Repairer as soon as possible. Engine Coolant Temperature High High engine coolant temperature could result in severe damage. As soon as conditions permit, safely stop the vehicle and switch off the engine and contact an MG Authorised Repairer immediately. Engine Coolant Temperature Sensor Fault Indicates that the engine coolant temperature sensor has failed. As soon as conditions permit, safely stop the vehicle and switch off the engine and contact an MG Authorised Repairer immediately.' metadata={'source': 'data/mg-zs-warning-messages.html'}\n\nChunk 2:\npage_content='Warning Message Procedure Low Oil Pressure Indicates that the oil pressure is too low, which may result in severe engine damage. As soon as safety permits, stop the car, switch off the engine and check the engine oil level. Contact an MG Authorised Repairer as soon as possible. Engine Fault Indicates that a failure has occurred that will effect engine performance and emissions. Contact an MG Authorised Repairer as soon as possible. Check Engine Indicates that a failure has occurred that may severely damage the engine. As soon as conditions permit, safely stop the vehicle , switch off the engine and contact an MG Authorised Repairer immediately.' metadata={'source': 'data/mg-zs-warning-messages.html'}\n\nChunk 3:\npage_content='Warning Message Procedure Stop Start System Fault Indicates that the Stop/Start intelligent fuel saving system has detected a fault. Please consult an MG Authorised Repairer as soon as possible. Clutch Switch Fault Indicates that the clutch switch has detected a fault. Please consult an MG Authorised Repairer as soon as possible. Gasoline Particular Filter Full Indicates that the gasoline particular filter is full. Please consult an MG Authorised Repairer as soon as possible. Ignition System Fault Indicates that the ignition system has detected a fault. Please consult an MG Authorised Repairer immediately.' metadata={'source': 'data/mg-zs-warning-messages.html'}\n\nChunk 4:\npage_content='Warning Message Procedure Start Stop Button Fault Indicates that the Start Stop button has detected a fault. Please consult an MG Authorised Repairer immediately. Passive Entry Fault Indicates that the passive keyless entry (PKE) function has detected a fault. Please consult an MG Authorised Repairer as soon as possible. ABS Fault Indicates that the anti-lock brake system (ABS) has failed and the ABS function is about to be disabled. Please consult an MG Authorised Repairer immediately.' metadata={'source': 'data/mg-zs-warning-messages.html'}\n\nChunk 5:\npage_content='Warning Message Procedure Brake Fault Indicates that the brake fluid could be low or a fault has been detected in the Electronic Brake-force Distribution (EBD) system. As soon as safety permits, stop the car, switch off the engine and check the brake fluid level. Contact an MG Authorised Repairer as soon as possible. Stability Control Fault Indicates that the stability control system has detected a fault. Please consult an MG Authorised Repairer immediately. Traction Control Fault Indicates that the traction control system has detected a fault. Please consult an MG Authorised Repairer immediately.' metadata={'source': 'data/mg-zs-warning-messages.html'}\n\nChunk 6:\npage_content='Warning Message Procedure EPB System Fault Indicates that the electronic parking brake system (EPB) has detected a fault. Please consult an MG Authorised Repairer as soon as possible. Park Brake Force Not Enough Indicates that there is an issue with the electronic parking brake, it may not be able to provide adequate clamping force. Contact an MG Authorised Repairer as soon as possible. Autohold Fault Indicates that the Autohold System has detected a fault. Please consult an MG Authorised Repairer as soon as possible. Hill Descent Control Fault Indicates that the hill descent control system has detected a fault. Please consult an MG Authorised Repairer as soon as possible.' metadata={'source': 'data/mg-zs-warning-messages.html'}\n\nChunk 7:\npage_content='Warning Message Procedure EPS Performance Reduced Indicates that the electric power steering system has a general failure and that the steering performance has been reduced. As soon as conditions permit, safely stop the vehicle and switch off the engine. After a short while, start the engine, drive the vehicle a short distance and monitor the operation of the steering, if the message is still displayed or the steering assistance reduced please contact an MG Authorised Repairer immediately. EPS Assistance Failure Indicates that the electric power steering system has failed. Please consult an MG Authorised Repairer immediately.' metadata={'source': 'data/mg-zs-warning-messages.html'}\n\nChunk 8:\npage_content='Warning Message Procedure Steering Angle Fault Indicates that the steering angle sensor has failed. Please consult an MG Authorised Repairer as soon as possible. Steering Angle Uncalibrated Indicates that the steering angle sensor is not calibrated. Please consult an MG Authorised Repairer as soon as possible. ESCL Fault Indicates that a fault has been detected with the Electronic Steering Column Lock (ESCL). As soon as conditions permit, safely stop the vehicle and switch off the engine. Contact an MG Authorised Repairer as soon as possible. Fuel Sensor Fault Indicates that fuel sensor has detected a fault. Please consult an MG Authorised Repairer as soon as possible.' metadata={'source': 'data/mg-zs-warning-messages.html'}\n\nChunk 9:\npage_content='Warning Message Procedure Airbag Fault Indicates that the Airbag system has detected a fault. As soon as conditions permit, safely stop the vehicle and switch off the engine and contact an MG Authorised Repairer immediately. Front Left/Front Right/Rear Left/Rear Right Tyre Sensor Battery Low Indicates that the Tyre Pressure Monitoring system has detected that a tyre pressure sensor has a low battery. Please consult an MG Authorised Repairer as soon as possible. TPMS Fault Indicates that the tyre pressure monitoring system has detected a fault. Please consult an MG Authorised Repairer as soon as possible.\n\nWarning Message Procedure 12V Battery Charging System Fault Indicates that the 12V battery charging system has failed. Please consult an MG Authorised Repairer immediately. Rear Drive Assist System Fault Indicates that the rear drive assist system (RDA) has detected a fault. Please consult an MG Authorised Repairer as soon as possible.' metadata={'source': 'data/mg-zs-warning-messages.html'}\n\n"
        }
      ],
      "execution_count": null
    },
    {
      "source": [
        "## Setting up Vector Store\n",
        "The document chunks and their embeddings are stored in a Chroma vector database for efficient similarity search."
      ],
      "metadata": {
        "id": "b0463d1c-ac96-492c-872b-42befa4c7618"
      },
      "cell_type": "markdown",
      "id": "b0463d1c-ac96-492c-872b-42befa4c7618"
    },
    {
      "source": [
        "chroma_store = Chroma.from_documents(\n",
        "    documents=car_docs_chunks,\n",
        "    embedding=embeddings\n",
        ")"
      ],
      "metadata": {
        "executionCancelledAt": null,
        "executionTime": 966,
        "lastExecutedAt": 1756344105860,
        "lastExecutedByKernel": "fe2e1d1a-5c22-4217-87d8-76056ece2d4f",
        "lastScheduledRunId": null,
        "lastSuccessfullyExecutedCode": "# Store the document chunks for retrieval using Chroma.from_documents\nchroma_store = Chroma.from_documents(\n    documents=car_docs_chunks,\n    embedding=embeddings\n)",
        "id": "b7b1a2e5-c156-499a-9638-f6c19311e2cd"
      },
      "cell_type": "code",
      "id": "b7b1a2e5-c156-499a-9638-f6c19311e2cd",
      "outputs": [],
      "execution_count": null
    },
    {
      "source": [
        "Retriever to retrieve relevant documents from the vector store"
      ],
      "metadata": {
        "id": "f81b58d1-2dcc-4f19-9767-ce7da85354e1"
      },
      "cell_type": "markdown",
      "id": "f81b58d1-2dcc-4f19-9767-ce7da85354e1"
    },
    {
      "source": [
        "retriever = chroma_store.as_retriever()"
      ],
      "metadata": {
        "executionCancelledAt": null,
        "executionTime": 51,
        "lastExecutedAt": 1756344105913,
        "lastExecutedByKernel": "fe2e1d1a-5c22-4217-87d8-76056ece2d4f",
        "lastScheduledRunId": null,
        "lastSuccessfullyExecutedCode": "# Use the .as_retriever() method on the vectorstore\nretriever = chroma_store.as_retriever()",
        "id": "67b48741-91d4-4296-b831-5923b96a82c2"
      },
      "cell_type": "code",
      "id": "67b48741-91d4-4296-b831-5923b96a82c2",
      "outputs": [],
      "execution_count": null
    },
    {
      "source": [
        "## Initializing LLM and Prompt\n",
        "\n",
        "A ChatOpenAI model (gpt-4o-mini) and a ChatPromptTemplate are initialized to generate responses."
      ],
      "metadata": {
        "id": "b4fa54d5-a527-4f7a-adde-fb9fbbbc01ce"
      },
      "cell_type": "markdown",
      "id": "b4fa54d5-a527-4f7a-adde-fb9fbbbc01ce"
    },
    {
      "source": [
        "llm = ChatOpenAI(\n",
        "    model=\"gpt-4o-mini\",\n",
        "    temperature=0  # Default temperature set to 0 for less creative outputs\n",
        ")"
      ],
      "metadata": {
        "executionCancelledAt": null,
        "executionTime": 50,
        "lastExecutedAt": 1756344105965,
        "lastExecutedByKernel": "fe2e1d1a-5c22-4217-87d8-76056ece2d4f",
        "lastScheduledRunId": null,
        "lastSuccessfullyExecutedCode": "llm = ChatOpenAI(\n    model=\"gpt-4o-mini\",\n    temperature=0  # Default temperature set to 0 for less creative outputs\n)",
        "id": "b1c38613-a89e-40b8-a95c-21f090aaf898"
      },
      "cell_type": "code",
      "id": "b1c38613-a89e-40b8-a95c-21f090aaf898",
      "outputs": [],
      "execution_count": null
    },
    {
      "source": [
        "# Create an instance of the ChatPromptTemplate class and use the .from_template() method\n",
        "prompt_template = ChatPromptTemplate.from_template(\n",
        "    \"Given the following context: {context}, please provide a detailed response.\"\n",
        ")"
      ],
      "metadata": {
        "executionCancelledAt": null,
        "executionTime": 46,
        "lastExecutedAt": 1756344106013,
        "lastExecutedByKernel": "fe2e1d1a-5c22-4217-87d8-76056ece2d4f",
        "lastScheduledRunId": null,
        "lastSuccessfullyExecutedCode": "# Create an instance of the ChatPromptTemplate class and use the .from_template() method\nprompt_template = ChatPromptTemplate.from_template(\n    \"Given the following context: {context}, please provide a detailed response.\"\n)",
        "id": "ce147ad9-7b51-4ed4-8001-8dae3840656e"
      },
      "cell_type": "code",
      "id": "ce147ad9-7b51-4ed4-8001-8dae3840656e",
      "outputs": [],
      "execution_count": null
    },
    {
      "source": [
        "## Defining RAG Chain\n",
        "\n",
        "A RAG chain is defined using LangChain Expression Language (LCEL), connecting the retriever (vector store), the prompt template, and the LLM."
      ],
      "metadata": {
        "id": "38ba1bca-ba69-4410-ba66-22df35561450"
      },
      "cell_type": "markdown",
      "id": "38ba1bca-ba69-4410-ba66-22df35561450"
    },
    {
      "source": [
        "# Define the RAG chain using LangChain Expression Language (LCEL)\n",
        "rag_chain = (\n",
        "    {\"context\": retriever, \"question\": RunnablePassthrough()}\n",
        "    | prompt_template\n",
        "    | llm\n",
        ")"
      ],
      "metadata": {
        "executionCancelledAt": null,
        "executionTime": 47,
        "lastExecutedAt": 1756344106061,
        "lastExecutedByKernel": "fe2e1d1a-5c22-4217-87d8-76056ece2d4f",
        "lastScheduledRunId": null,
        "lastSuccessfullyExecutedCode": "# Define the RAG chain using LangChain Expression Language (LCEL)\nrag_chain = (\n    {\"context\": retriever, \"question\": RunnablePassthrough()} \n    | prompt_template \n    | llm\n)",
        "id": "895d45cc-e240-456e-976e-5b3f69bf45bf"
      },
      "cell_type": "code",
      "id": "895d45cc-e240-456e-976e-5b3f69bf45bf",
      "outputs": [],
      "execution_count": null
    },
    {
      "source": [
        "## Invoking RAG Chain\n",
        "The RAG chain is invoked with a user query to retrieve relevant information from the manual and generate a context-aware response."
      ],
      "metadata": {
        "id": "c73c3da3-4ad9-4f18-8c6f-b15310ffdc0a"
      },
      "cell_type": "markdown",
      "id": "c73c3da3-4ad9-4f18-8c6f-b15310ffdc0a"
    },
    {
      "source": [
        "# Define the user query\n",
        "user_query = \"The Gasoline Particular Filter Full warning has appeared. What does this mean and what should I do about it?\"\n",
        "\n",
        "# Invoke chain with the user query\n",
        "answer = rag_chain.invoke(user_query).content\n",
        "\n",
        "# Display\n",
        "print(answer)"
      ],
      "metadata": {
        "executionCancelledAt": null,
        "executionTime": 9242,
        "lastExecutedAt": 1756344115305,
        "lastExecutedByKernel": "fe2e1d1a-5c22-4217-87d8-76056ece2d4f",
        "lastScheduledRunId": null,
        "lastSuccessfullyExecutedCode": "# Define the user query\nuser_query = \"The Gasoline Particular Filter Full warning has appeared. What does this mean and what should I do about it?\"\n\n# Invoke the RAG chain with the user query\nanswer = rag_chain.invoke(user_query).content\n\n# Display the response\nprint(answer)",
        "outputsMetadata": {
          "0": {
            "height": 616,
            "type": "stream"
          }
        },
        "id": "6fe5303b-93cd-4123-bbf8-0c0f42a8eeaa",
        "outputId": "a74402b8-aec3-432f-ebfe-31c102c8b185"
      },
      "cell_type": "code",
      "id": "6fe5303b-93cd-4123-bbf8-0c0f42a8eeaa",
      "outputs": [
        {
          "output_type": "stream",
          "name": "stdout",
          "text": "The provided context contains a series of warning messages related to the MG ZS vehicle, detailing various system faults and issues that may arise during operation. Each warning message is accompanied by a recommended procedure for addressing the issue, typically advising the driver to consult an MG Authorised Repairer. Below is a summary of the key warning messages and their implications:\n\n1. **Stop Start System Fault**:\n   - **Description**: This warning indicates that the Stop/Start intelligent fuel-saving system has detected a fault.\n   - **Action**: The driver is advised to consult an MG Authorised Repairer as soon as possible.\n\n2. **Clutch Switch Fault**:\n   - **Description**: This message indicates a fault detected in the clutch switch.\n   - **Action**: Similar to the previous warning, the driver should consult an MG Authorised Repairer promptly.\n\n3. **Gasoline Particular Filter Full**:\n   - **Description**: This warning signifies that the gasoline particulate filter is full.\n   - **Action**: The driver is advised to consult an MG Authorised Repairer as soon as possible.\n\n4. **Ignition System Fault**:\n   - **Description**: This indicates a fault in the ignition system.\n   - **Action**: Immediate consultation with an MG Authorised Repairer is recommended.\n\n5. **Low Oil Pressure**:\n   - **Description**: This warning indicates that the oil pressure is too low, which can lead to severe engine damage.\n   - **Action**: The driver should stop the car safely, switch off the engine, check the engine oil level, and contact an MG Authorised Repairer as soon as possible.\n\n6. **Engine Fault**:\n   - **Description**: This message indicates a failure that will affect engine performance and emissions.\n   - **Action**: The driver should contact an MG Authorised Repairer as soon as possible.\n\n7. **Check Engine**:\n   - **Description**: This warning indicates a failure that may severely damage the engine.\n   - **Action**: The driver should safely stop the vehicle, switch off the engine, and contact an MG Authorised Repairer immediately.\n\n### Summary of Recommendations:\n- **Immediate Action**: For warnings related to low oil pressure and check engine, immediate action is crucial to prevent severe damage to the engine.\n- **Consultation**: For all other faults, consulting an MG Authorised Repairer is essential to diagnose and rectify the issues effectively.\n- **Safety First**: In cases where the vehicle's operation may be compromised, the driver should prioritize safety by stopping the vehicle in a safe location before addressing the issue.\n\nThese warnings are critical for maintaining the vehicle's performance and ensuring the safety of the driver and passengers. Regular checks and maintenance by authorized personnel can help prevent these issues from escalating.\n"
        }
      ],
      "execution_count": null
    }
  ],
  "metadata": {
    "colab": {
      "provenance": []
    },
    "kernelspec": {
      "display_name": "Python 3 (ipykernel)",
      "language": "python",
      "name": "python3"
    },
    "language_info": {
      "codemirror_mode": {
        "name": "ipython",
        "version": 3
      },
      "file_extension": ".py",
      "mimetype": "text/x-python",
      "name": "python",
      "nbconvert_exporter": "python",
      "pygments_lexer": "ipython3",
      "version": "3.10.12"
    }
  },
  "nbformat": 4,
  "nbformat_minor": 5
}